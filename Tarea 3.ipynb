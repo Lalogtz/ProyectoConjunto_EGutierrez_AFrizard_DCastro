{
 "cells": [
  {
   "cell_type": "markdown",
   "id": "a25987e4",
   "metadata": {},
   "source": [
    "<img style=\"float: left; margin: 30px 15px 15px 15px;\" src=\"https://encrypted-tbn0.gstatic.com/images?q=tbn:ANd9GcTFzQj91sOlkeDFkg5HDbjtR4QJYmLXkfMNig&usqp=CAU\" width=\"500\" height=\"500\" /> \n",
    "    \n",
    "### <font color='navy'> Simulación de procesos financieros. \n",
    "\n",
    "**Nombres:** Eduardo Gutiérrez Flores, Alejandro Frizard Aguilar, Dario Castro Gonzalez .\n",
    "\n",
    "**Fecha:** 14 de febrero del 2024.\n",
    "\n",
    "**Expediente** : 741305,  .\n",
    "**Profesor:** Oscar David Jaramillo Zuluaga.\n",
    "    \n",
    "**Link Github**: https://github.com/Lalogtz/ProyectoConjunto_EGutierrez_AFrizard_DCastro\n",
    "\n",
    "# Tarea 3: Clase 6"
   ]
  },
  {
   "cell_type": "markdown",
   "id": "b2ad0823",
   "metadata": {},
   "source": [
    "> ## Tarea 3: (Usando notebook de jupyter)** \n",
    "\n",
    "> Usando compresión de listas o funciones map(sino recuerda como funciona observar el siguiente enlace https://www.pythonforbeginners.com/lists/list-comprehensions-in-python/), resolver los siguientes ejercicios:\n",
    "\n",
    ">1. Resolver la siguiente ecuación recursiva usando funciones como se vió en clase\n",
    "$$ D_{n}=(n-1) D_{n-1}+(n-1) D_{n-2} \\quad n\\ge 3$$\n",
    "con $D_1=0$ y $D_2 = 1$\n",
    ">3. Count the number of spaces in the following string `variable =  relaciónn  requiere,  para obtener  el  valor  de un  cierto  término,  el conocimiento de los dos anteriores`.\n",
    ">4. Remove all of the vowels in a string [make a list of the non-vowels].\n",
    ">5. Find all of the words in a string that are less than 4 letters.\n",
    ">6. Use a dictionary comprehension to count the length of each word in a sentence.\n",
    ">7. Use a nested list comprehension to find all of the numbers from 1-1000 that are divisible by any single digit besides 1 (2-9). "
   ]
  },
  {
   "cell_type": "markdown",
   "id": "23705792",
   "metadata": {},
   "source": [
    "### Librerías"
   ]
  },
  {
   "cell_type": "code",
   "execution_count": 1,
   "id": "bb802887",
   "metadata": {},
   "outputs": [],
   "source": [
    "import numpy as np\n",
    "import random\n",
    "from functools import reduce"
   ]
  },
  {
   "cell_type": "markdown",
   "id": "df11164d",
   "metadata": {},
   "source": [
    "1. Resolver la siguiente ecuación recursiva usando funciones como se vió en clase\n",
    "$$ D_{n}=(n-1) D_{n-1}+(n-1) D_{n-2} \\quad n\\ge 3$$ con $D_1=0$ y $D_2 = 1$"
   ]
  },
  {
   "cell_type": "code",
   "execution_count": 4,
   "id": "f39b854f",
   "metadata": {},
   "outputs": [
    {
     "name": "stdout",
     "output_type": "stream",
     "text": [
      "44\n"
     ]
    }
   ],
   "source": [
    "## Solución del estudiante 1 (Eduardo)\n",
    "def D(n):\n",
    "    if n == 1:\n",
    "        return 0\n",
    "    elif n == 2:\n",
    "        return 1\n",
    "    else:\n",
    "        return (n-1)*D(n-1) + (n-1)*D(n-2)\n",
    "\n",
    "# Ejemplo de uso\n",
    "print(D(5))  "
   ]
  },
  {
   "cell_type": "code",
   "execution_count": null,
   "id": "3489ccae",
   "metadata": {},
   "outputs": [],
   "source": [
    "## Solución del estudiante 2 (Alejandro)\n"
   ]
  },
  {
   "cell_type": "code",
   "execution_count": null,
   "id": "49a4be15",
   "metadata": {},
   "outputs": [],
   "source": [
    "## Solución del estudiante 3 (Dario)\n"
   ]
  },
  {
   "cell_type": "markdown",
   "id": "b0e68ada",
   "metadata": {},
   "source": [
    "2. Count the number of spaces in the following string `variable =  relaciónn  requiere,  para obtener  el  valor  de un  cierto  término,  el conocimiento de los dos anteriores`."
   ]
  },
  {
   "cell_type": "code",
   "execution_count": 6,
   "id": "bfd3e37c",
   "metadata": {},
   "outputs": [
    {
     "name": "stdout",
     "output_type": "stream",
     "text": [
      "26\n"
     ]
    }
   ],
   "source": [
    "## Solución del estudiante 1 (Eduardo)\n",
    "frase = \"variable =  relaciónn  requiere,  para obtener  el  valor  de un  cierto  término,  el conocimiento de los dos anteriores\"\n",
    "num_spacio = sum(map(lambda c: 1 if c == ' ' else 0, frase))\n",
    "print(num_spacio)"
   ]
  },
  {
   "cell_type": "code",
   "execution_count": null,
   "id": "055df4c7",
   "metadata": {},
   "outputs": [],
   "source": [
    "## Solución del estudiante 2 (Alejandro)\n"
   ]
  },
  {
   "cell_type": "code",
   "execution_count": null,
   "id": "e1c815fc",
   "metadata": {},
   "outputs": [],
   "source": [
    "## Solución del estudiante 3 (Dario)\n"
   ]
  },
  {
   "cell_type": "markdown",
   "id": "714a4419",
   "metadata": {},
   "source": [
    "3. Remove all of the vowels in a string [make a list of the non-vowels]."
   ]
  },
  {
   "cell_type": "code",
   "execution_count": 7,
   "id": "072455d0",
   "metadata": {},
   "outputs": [
    {
     "data": {
      "text/plain": [
       "['H',\n",
       " 'l',\n",
       " ',',\n",
       " '¿',\n",
       " 'c',\n",
       " 'm',\n",
       " 's',\n",
       " 't',\n",
       " 's',\n",
       " '?',\n",
       " ',',\n",
       " 's',\n",
       " 't',\n",
       " 's',\n",
       " 'n',\n",
       " 'p',\n",
       " 'r',\n",
       " 'b',\n",
       " 'v',\n",
       " 'r',\n",
       " 's',\n",
       " 's',\n",
       " 'r',\n",
       " 'v']"
      ]
     },
     "execution_count": 7,
     "metadata": {},
     "output_type": "execute_result"
    }
   ],
   "source": [
    "## Solución del estudiante 1 (Eduardo)\n",
    "string_vowels = \"Hola, ¿cómo estás?, esto es una prueba a ver si sirve\"\n",
    "\n",
    "sol_vowels = list([cons for cons in string_vowels if cons not in\n",
    "            ['a','e', 'i', 'o', 'u','A', 'E', 'I', 'O', 'U', 'á', 'é', 'í', 'ó', 'ú', 'Á', 'É', 'Í', 'Ó', 'Ú', ' ']])\n",
    "\n",
    "sol_vowels"
   ]
  },
  {
   "cell_type": "code",
   "execution_count": null,
   "id": "c89a1371",
   "metadata": {},
   "outputs": [],
   "source": [
    "## Solución del estudiante 2 (Alejandro)\n"
   ]
  },
  {
   "cell_type": "code",
   "execution_count": null,
   "id": "49a70644",
   "metadata": {},
   "outputs": [],
   "source": [
    "## Solución del estudiante 3 (Dario)\n"
   ]
  },
  {
   "cell_type": "markdown",
   "id": "eec4bc4a",
   "metadata": {},
   "source": [
    "4. Find all of the words in a string that are less than 4 letters."
   ]
  },
  {
   "cell_type": "code",
   "execution_count": 8,
   "id": "bbe4fcaa",
   "metadata": {},
   "outputs": [
    {
     "name": "stdout",
     "output_type": "stream",
     "text": [
      "['es', 'la', 'que', 'ver', 'si', 'si', 'al']\n"
     ]
    }
   ],
   "source": [
    "## Solución del estudiante 1 (Eduardo)\n",
    "string = \"Esta es la frase que usaremos para ver si este codigo si funciona sino lloramos al final\"\n",
    "palabra_corta = [word for word in string.split() if len(word) < 4]\n",
    "print(palabra_corta)"
   ]
  },
  {
   "cell_type": "code",
   "execution_count": null,
   "id": "846f9161",
   "metadata": {},
   "outputs": [],
   "source": [
    "## Solución del estudiante 2 (Alejandro)\n"
   ]
  },
  {
   "cell_type": "code",
   "execution_count": null,
   "id": "686e30ac",
   "metadata": {},
   "outputs": [],
   "source": [
    "## Solución del estudiante 3 (Dario)\n"
   ]
  },
  {
   "cell_type": "markdown",
   "id": "b3d0a279",
   "metadata": {},
   "source": [
    "5. Use a dictionary comprehension to count the length of each word in a sentence."
   ]
  },
  {
   "cell_type": "code",
   "execution_count": 9,
   "id": "0c5fe19e",
   "metadata": {
    "scrolled": true
   },
   "outputs": [
    {
     "data": {
      "text/plain": [
       "{'Esta': 4,\n",
       " 'es': 2,\n",
       " 'la': 2,\n",
       " 'frase': 5,\n",
       " 'que': 3,\n",
       " 'usaremos': 8,\n",
       " 'para': 4,\n",
       " 'ver': 3,\n",
       " 'si': 2,\n",
       " 'este': 4,\n",
       " 'codigo': 6,\n",
       " 'funciona,': 9,\n",
       " 'no,': 3,\n",
       " 'lloramos': 8,\n",
       " 'al': 2,\n",
       " 'final': 5}"
      ]
     },
     "execution_count": 9,
     "metadata": {},
     "output_type": "execute_result"
    }
   ],
   "source": [
    "## Solución del estudiante 1 (Eduardo)\n",
    "string_count = \"Esta es la frase que usaremos para ver si este codigo si funciona, si no, lloramos al final\"\n",
    "diccionario = {palabra: len(palabra) for palabra in string_count.split()}\n",
    "diccionario"
   ]
  },
  {
   "cell_type": "code",
   "execution_count": null,
   "id": "0020b5b0",
   "metadata": {},
   "outputs": [],
   "source": [
    "## Solución del estudiante 2 (Alejandro)\n"
   ]
  },
  {
   "cell_type": "code",
   "execution_count": null,
   "id": "40b3657e",
   "metadata": {},
   "outputs": [],
   "source": [
    "## Solución del estudiante 3 (Dario)\n"
   ]
  },
  {
   "cell_type": "markdown",
   "id": "da87fce0",
   "metadata": {},
   "source": [
    "6. Use a nested list comprehension to find all of the numbers from 1-1000 that are divisible by any single digit besides 1 (2-9). "
   ]
  },
  {
   "cell_type": "code",
   "execution_count": 11,
   "id": "f410c714",
   "metadata": {},
   "outputs": [
    {
     "name": "stdout",
     "output_type": "stream",
     "text": [
      "[2, 3, 4, 5, 6, 7, 8, 9, 10, 12, 14, 15, 16, 18, 20, 21, 22, 24, 25, 26, 27, 28, 30, 32, 33, 34, 35, 36, 38, 39, 40, 42, 44, 45, 46, 48, 49, 50, 51, 52, 54, 55, 56, 57, 58, 60, 62, 63, 64, 65, 66, 68, 69, 70, 72, 74, 75, 76, 77, 78, 80, 81, 82, 84, 85, 86, 87, 88, 90, 91, 92, 93, 94, 95, 96, 98, 99, 100, 102, 104, 105, 106, 108, 110, 111, 112, 114, 115, 116, 117, 118, 119, 120, 122, 123, 124, 125, 126, 128, 129, 130, 132, 133, 134, 135, 136, 138, 140, 141, 142, 144, 145, 146, 147, 148, 150, 152, 153, 154, 155, 156, 158, 159, 160, 161, 162, 164, 165, 166, 168, 170, 171, 172, 174, 175, 176, 177, 178, 180, 182, 183, 184, 185, 186, 188, 189, 190, 192, 194, 195, 196, 198, 200, 201, 202, 203, 204, 205, 206, 207, 208, 210, 212, 213, 214, 215, 216, 217, 218, 219, 220, 222, 224, 225, 226, 228, 230, 231, 232, 234, 235, 236, 237, 238, 240, 242, 243, 244, 245, 246, 248, 249, 250, 252, 254, 255, 256, 258, 259, 260, 261, 262, 264, 265, 266, 267, 268, 270, 272, 273, 274, 275, 276, 278, 279, 280, 282, 284, 285, 286, 287, 288, 290, 291, 292, 294, 295, 296, 297, 298, 300, 301, 302, 303, 304, 305, 306, 308, 309, 310, 312, 314, 315, 316, 318, 320, 321, 322, 324, 325, 326, 327, 328, 329, 330, 332, 333, 334, 335, 336, 338, 339, 340, 342, 343, 344, 345, 346, 348, 350, 351, 352, 354, 355, 356, 357, 358, 360, 362, 363, 364, 365, 366, 368, 369, 370, 371, 372, 374, 375, 376, 378, 380, 381, 382, 384, 385, 386, 387, 388, 390, 392, 393, 394, 395, 396, 398, 399, 400, 402, 404, 405, 406, 408, 410, 411, 412, 413, 414, 415, 416, 417, 418, 420, 422, 423, 424, 425, 426, 427, 428, 429, 430, 432, 434, 435, 436, 438, 440, 441, 442, 444, 445, 446, 447, 448, 450, 452, 453, 454, 455, 456, 458, 459, 460, 462, 464, 465, 466, 468, 469, 470, 471, 472, 474, 475, 476, 477, 478, 480, 482, 483, 484, 485, 486, 488, 489, 490, 492, 494, 495, 496, 497, 498, 500, 501, 502, 504, 505, 506, 507, 508, 510, 511, 512, 513, 514, 515, 516, 518, 519, 520, 522, 524, 525, 526, 528, 530, 531, 532, 534, 535, 536, 537, 538, 539, 540, 542, 543, 544, 545, 546, 548, 549, 550, 552, 553, 554, 555, 556, 558, 560, 561, 562, 564, 565, 566, 567, 568, 570, 572, 573, 574, 575, 576, 578, 579, 580, 581, 582, 584, 585, 586, 588, 590, 591, 592, 594, 595, 596, 597, 598, 600, 602, 603, 604, 605, 606, 608, 609, 610, 612, 614, 615, 616, 618, 620, 621, 622, 623, 624, 625, 626, 627, 628, 630, 632, 633, 634, 635, 636, 637, 638, 639, 640, 642, 644, 645, 646, 648, 650, 651, 652, 654, 655, 656, 657, 658, 660, 662, 663, 664, 665, 666, 668, 669, 670, 672, 674, 675, 676, 678, 679, 680, 681, 682, 684, 685, 686, 687, 688, 690, 692, 693, 694, 695, 696, 698, 699, 700, 702, 704, 705, 706, 707, 708, 710, 711, 712, 714, 715, 716, 717, 718, 720, 721, 722, 723, 724, 725, 726, 728, 729, 730, 732, 734, 735, 736, 738, 740, 741, 742, 744, 745, 746, 747, 748, 749, 750, 752, 753, 754, 755, 756, 758, 759, 760, 762, 763, 764, 765, 766, 768, 770, 771, 772, 774, 775, 776, 777, 778, 780, 782, 783, 784, 785, 786, 788, 789, 790, 791, 792, 794, 795, 796, 798, 800, 801, 802, 804, 805, 806, 807, 808, 810, 812, 813, 814, 815, 816, 818, 819, 820, 822, 824, 825, 826, 828, 830, 831, 832, 833, 834, 835, 836, 837, 838, 840, 842, 843, 844, 845, 846, 847, 848, 849, 850, 852, 854, 855, 856, 858, 860, 861, 862, 864, 865, 866, 867, 868, 870, 872, 873, 874, 875, 876, 878, 879, 880, 882, 884, 885, 886, 888, 889, 890, 891, 892, 894, 895, 896, 897, 898, 900, 902, 903, 904, 905, 906, 908, 909, 910, 912, 914, 915, 916, 917, 918, 920, 921, 922, 924, 925, 926, 927, 928, 930, 931, 932, 933, 934, 935, 936, 938, 939, 940, 942, 944, 945, 946, 948, 950, 951, 952, 954, 955, 956, 957, 958, 959, 960, 962, 963, 964, 965, 966, 968, 969, 970, 972, 973, 974, 975, 976, 978, 980, 981, 982, 984, 985, 986, 987, 988, 990, 992, 993, 994, 995, 996, 998, 999, 1000]\n"
     ]
    }
   ],
   "source": [
    "## Solución del estudiante 1 (Eduardo)\n",
    "numerod = [number for number in range(1, 1001) if any(number % digit == 0 for digit in range(2, 10))]\n",
    "print(numerod)"
   ]
  },
  {
   "cell_type": "code",
   "execution_count": null,
   "id": "b2174a5d",
   "metadata": {},
   "outputs": [],
   "source": [
    "## Solución del estudiante 2 (Alejandro)\n"
   ]
  },
  {
   "cell_type": "code",
   "execution_count": null,
   "id": "55b8664f",
   "metadata": {},
   "outputs": [],
   "source": [
    "## Solución del estudiante 3 (Dario)\n"
   ]
  }
 ],
 "metadata": {
  "kernelspec": {
   "display_name": "Python 3 (ipykernel)",
   "language": "python",
   "name": "python3"
  },
  "language_info": {
   "codemirror_mode": {
    "name": "ipython",
    "version": 3
   },
   "file_extension": ".py",
   "mimetype": "text/x-python",
   "name": "python",
   "nbconvert_exporter": "python",
   "pygments_lexer": "ipython3",
   "version": "3.9.13"
  }
 },
 "nbformat": 4,
 "nbformat_minor": 5
}
